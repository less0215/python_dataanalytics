{
 "cells": [
  {
   "cell_type": "markdown",
   "metadata": {},
   "source": [
    "# 구글 클라우드 콘솔 인증 받기\n",
    "    https://jaennie.tistory.com/10\n",
    "    위 링크 참고\n",
    "\n",
    "# pip install gspread"
   ]
  },
  {
   "cell_type": "code",
   "execution_count": null,
   "metadata": {},
   "outputs": [
    {
     "name": "stdout",
     "output_type": "stream",
     "text": [
      "zsh:1: command not found: pip\n"
     ]
    }
   ],
   "source": [
    "# 라이브러리 설치\n",
    "pip install gspread\n",
    "\n",
    "#Mac 환경에서 설치하는법\n",
    "# python3 -m pip install gspread"
   ]
  },
  {
   "cell_type": "code",
   "execution_count": null,
   "metadata": {},
   "outputs": [],
   "source": [
    "# 라이브러리 불러오기\n",
    "import gspread\n",
    "\n",
    "# json 파일 Key 값 저장하기\n",
    "    # 1. 저장한 키값 'service_account'로 변경\n",
    "    # 2. C드라이브 바로 아래에 저장\n",
    "키경로 = gspread.service_account(filename = \"/Users/jungbongjun/Downloads/python_dataanalytics-main/python_DA/Key/service_account.json\")\n",
    "\n",
    "# 불러 오고 싶은 시트URL 복붙\n",
    "    # 이때, 시트 내에 '권한'을 줘야 함\n",
    "    # 권한은 Key 값을 생성한 이메일\n",
    "시트 = 키경로.open_by_url(\"https://docs.google.com/spreadsheets/d/1EY_tgOcIlQDam1ItlHhH7u6zw5Esmm_2DU40w1EaQGU/edit?usp=sharing\")"
   ]
  },
  {
   "cell_type": "code",
   "execution_count": 6,
   "metadata": {},
   "outputs": [
    {
     "data": {
      "text/plain": [
       "<Worksheet '시트1' id:0>"
      ]
     },
     "execution_count": 6,
     "metadata": {},
     "output_type": "execute_result"
    }
   ],
   "source": [
    "# 시트 내에 있는 워크시트 불러오기\n",
    "워크시트 = 시트.worksheet('시트1')\n",
    "워크시트"
   ]
  },
  {
   "cell_type": "code",
   "execution_count": 19,
   "metadata": {},
   "outputs": [
    {
     "data": {
      "text/plain": [
       "{'spreadsheetId': '1EY_tgOcIlQDam1ItlHhH7u6zw5Esmm_2DU40w1EaQGU',\n",
       " 'updatedRange': \"'시트1'!A1\",\n",
       " 'updatedRows': 1,\n",
       " 'updatedColumns': 1,\n",
       " 'updatedCells': 1}"
      ]
     },
     "execution_count": 19,
     "metadata": {},
     "output_type": "execute_result"
    }
   ],
   "source": [
    "# 워크시트 A1 셀에 값 입력\n",
    "워크시트.update_acell(\"A1\", \"Hello, World!\")"
   ]
  },
  {
   "cell_type": "code",
   "execution_count": 28,
   "metadata": {},
   "outputs": [
    {
     "data": {
      "text/plain": [
       "{'spreadsheetId': '1EY_tgOcIlQDam1ItlHhH7u6zw5Esmm_2DU40w1EaQGU',\n",
       " 'updates': {'spreadsheetId': '1EY_tgOcIlQDam1ItlHhH7u6zw5Esmm_2DU40w1EaQGU',\n",
       "  'updatedRange': \"'시트1'!A1:D1\",\n",
       "  'updatedRows': 1,\n",
       "  'updatedColumns': 4,\n",
       "  'updatedCells': 4}}"
      ]
     },
     "execution_count": 28,
     "metadata": {},
     "output_type": "execute_result"
    }
   ],
   "source": [
    "# 워크시트 '마지막 행'에 '여러 값' 입력하기\n",
    "워크시트.append_row(['테스트1','테스트2','테스트3','테스트4'])"
   ]
  },
  {
   "cell_type": "code",
   "execution_count": 22,
   "metadata": {},
   "outputs": [
    {
     "data": {
      "text/plain": [
       "'Hello, World!'"
      ]
     },
     "execution_count": 22,
     "metadata": {},
     "output_type": "execute_result"
    }
   ],
   "source": [
    "# 워크시트 A1 셀에 있는 값 읽기\n",
    "워크시트.acell('A1').value"
   ]
  },
  {
   "cell_type": "code",
   "execution_count": null,
   "metadata": {},
   "outputs": [
    {
     "data": {
      "text/plain": [
       "[['테스트1', '테스트2', '테스트3', '테스트4']]"
      ]
     },
     "execution_count": 23,
     "metadata": {},
     "output_type": "execute_result"
    }
   ],
   "source": [
    "# 워크시트 'A2:D2' 범위에 있는 값 읽기\n",
    "워크시트.get(\"A1:D1\")"
   ]
  },
  {
   "cell_type": "code",
   "execution_count": null,
   "metadata": {},
   "outputs": [
    {
     "data": {
      "text/plain": [
       "{'spreadsheetId': '1EY_tgOcIlQDam1ItlHhH7u6zw5Esmm_2DU40w1EaQGU',\n",
       " 'clearedRanges': [\"'시트1'!A2:D2\"]}"
      ]
     },
     "execution_count": 27,
     "metadata": {},
     "output_type": "execute_result"
    }
   ],
   "source": [
    "# 원하는 값 삭제하기\n",
    "워크시트.batch_clear(['A2:D2'])"
   ]
  },
  {
   "cell_type": "code",
   "execution_count": null,
   "metadata": {},
   "outputs": [
    {
     "name": "stdout",
     "output_type": "stream",
     "text": [
      "['테스트1', '테스트2', '테스트3', '테스트4']\n",
      "[]\n"
     ]
    },
    {
     "data": {
      "text/html": [
       "<div>\n",
       "<style scoped>\n",
       "    .dataframe tbody tr th:only-of-type {\n",
       "        vertical-align: middle;\n",
       "    }\n",
       "\n",
       "    .dataframe tbody tr th {\n",
       "        vertical-align: top;\n",
       "    }\n",
       "\n",
       "    .dataframe thead th {\n",
       "        text-align: right;\n",
       "    }\n",
       "</style>\n",
       "<table border=\"1\" class=\"dataframe\">\n",
       "  <thead>\n",
       "    <tr style=\"text-align: right;\">\n",
       "      <th></th>\n",
       "      <th>테스트1</th>\n",
       "      <th>테스트2</th>\n",
       "      <th>테스트3</th>\n",
       "      <th>테스트4</th>\n",
       "    </tr>\n",
       "  </thead>\n",
       "  <tbody>\n",
       "  </tbody>\n",
       "</table>\n",
       "</div>"
      ],
      "text/plain": [
       "Empty DataFrame\n",
       "Columns: [테스트1, 테스트2, 테스트3, 테스트4]\n",
       "Index: []"
      ]
     },
     "execution_count": 34,
     "metadata": {},
     "output_type": "execute_result"
    }
   ],
   "source": [
    "# 전체 데이터를 가져옵니다\n",
    "모든_데이터 = 워크시트.get_all_values()\n",
    "\n",
    "# 첫 번째 행을 헤더로 사용\n",
    "헤더 = 모든_데이터[0]\n",
    "# 두 번째 행부터 맨 마지막에 있는 행까지 선택\n",
    "데이터 = 모든_데이터[1:]\n",
    "\n",
    "# 컬럼명 정하고 불러올 데이터 명명하기\n",
    "    # pd.DataFrame(데이터)\n",
    "    # \"이 데이터로 표(데이터프레임)를 만들겠습니다\"\n",
    "    # columns=헤더\n",
    "    # \"그리고 이 표의 열 이름들은 '헤더' 변수에 있는 것들을 사용하겠습니다\"\n",
    "df = pd.DataFrame(데이터, columns=헤더)\n",
    "\n",
    "df"
   ]
  }
 ],
 "metadata": {
  "kernelspec": {
   "display_name": "Python 3",
   "language": "python",
   "name": "python3"
  },
  "language_info": {
   "codemirror_mode": {
    "name": "ipython",
    "version": 3
   },
   "file_extension": ".py",
   "mimetype": "text/x-python",
   "name": "python",
   "nbconvert_exporter": "python",
   "pygments_lexer": "ipython3",
   "version": "3.13.0"
  }
 },
 "nbformat": 4,
 "nbformat_minor": 2
}
