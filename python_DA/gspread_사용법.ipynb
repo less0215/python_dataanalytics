{
 "cells": [
  {
   "cell_type": "markdown",
   "metadata": {},
   "source": [
    "# 구글 클라우드 콘솔 인증 받기\n",
    "    https://jaennie.tistory.com/10\n",
    "    위 링크 참고\n",
    "\n",
    "# pip install gspread"
   ]
  },
  {
   "cell_type": "code",
   "execution_count": null,
   "metadata": {},
   "outputs": [],
   "source": [
    "# 라이브러리 설치\n",
    "pip install gspread"
   ]
  },
  {
   "cell_type": "code",
   "execution_count": null,
   "metadata": {},
   "outputs": [],
   "source": [
    "# 라이브러리 불러오기\n",
    "import gspread\n",
    "\n",
    "# json 파일 Key 값 저장하기\n",
    "    # 1. 저장한 키값 'service_account'로 변경\n",
    "    # 2. C드라이브 바로 아래에 저장\n",
    "키경로 = gspread.service_account(filename = \"C:/service_account.json\")\n",
    "\n",
    "# 불러 오고 싶은 시트URL 복붙\n",
    "    # 이때, 시트 내에 '권한'을 줘야 함\n",
    "    # 권한은 Key 값을 생성한 이메일\n",
    "시트 = 키경로.open_by_url(\"https://docs.google.com/spreadsheets/d/1EY_tgOcIlQDam1ItlHhH7u6zw5Esmm_2DU40w1EaQGU/edit?usp=sharing\")\n"
   ]
  },
  {
   "cell_type": "code",
   "execution_count": null,
   "metadata": {},
   "outputs": [
    {
     "data": {
      "text/plain": [
       "<Worksheet '시트1' id:0>"
      ]
     },
     "execution_count": 9,
     "metadata": {},
     "output_type": "execute_result"
    }
   ],
   "source": [
    "# 시트 내에 있는 워크시트 불러오기\n",
    "워크시트 = 시트.worksheet('시트1')\n",
    "워크시트"
   ]
  },
  {
   "cell_type": "code",
   "execution_count": null,
   "metadata": {},
   "outputs": [
    {
     "data": {
      "text/plain": [
       "{'spreadsheetId': '1EY_tgOcIlQDam1ItlHhH7u6zw5Esmm_2DU40w1EaQGU',\n",
       " 'updatedRange': \"'시트1'!A1\",\n",
       " 'updatedRows': 1,\n",
       " 'updatedColumns': 1,\n",
       " 'updatedCells': 1}"
      ]
     },
     "execution_count": 10,
     "metadata": {},
     "output_type": "execute_result"
    }
   ],
   "source": [
    "# 워크시트 A1 셀에 값 입력\n",
    "워크시트.update_acell(\"A1\", \"Hello, World!\")"
   ]
  },
  {
   "cell_type": "code",
   "execution_count": null,
   "metadata": {},
   "outputs": [
    {
     "data": {
      "text/plain": [
       "{'spreadsheetId': '1EY_tgOcIlQDam1ItlHhH7u6zw5Esmm_2DU40w1EaQGU',\n",
       " 'tableRange': \"'시트1'!A1\",\n",
       " 'updates': {'spreadsheetId': '1EY_tgOcIlQDam1ItlHhH7u6zw5Esmm_2DU40w1EaQGU',\n",
       "  'updatedRange': \"'시트1'!A2:D2\",\n",
       "  'updatedRows': 1,\n",
       "  'updatedColumns': 4,\n",
       "  'updatedCells': 4}}"
      ]
     },
     "execution_count": 11,
     "metadata": {},
     "output_type": "execute_result"
    }
   ],
   "source": [
    "# 워크시트 '마지막 행'에 '여러 값' 입력하기\n",
    "워크시트.append_row(['테스트1','테스트2','테스트3','테스트4'])"
   ]
  },
  {
   "cell_type": "code",
   "execution_count": null,
   "metadata": {},
   "outputs": [
    {
     "data": {
      "text/plain": [
       "'Hello, World!'"
      ]
     },
     "execution_count": 13,
     "metadata": {},
     "output_type": "execute_result"
    }
   ],
   "source": [
    "# 워크시트 A1 셀에 있는 값 읽기\n",
    "워크시트.acell('A1').value"
   ]
  },
  {
   "cell_type": "code",
   "execution_count": null,
   "metadata": {},
   "outputs": [
    {
     "data": {
      "text/plain": [
       "[['테스트1', '테스트2', '테스트3', '테스트4']]"
      ]
     },
     "execution_count": 14,
     "metadata": {},
     "output_type": "execute_result"
    }
   ],
   "source": [
    "# 워크시트 'A2:D2' 범위에 있는 값 읽기\n",
    "워크시트.get(\"A2:D2\")"
   ]
  }
 ],
 "metadata": {
  "kernelspec": {
   "display_name": "Python 3",
   "language": "python",
   "name": "python3"
  },
  "language_info": {
   "codemirror_mode": {
    "name": "ipython",
    "version": 3
   },
   "file_extension": ".py",
   "mimetype": "text/x-python",
   "name": "python",
   "nbconvert_exporter": "python",
   "pygments_lexer": "ipython3",
   "version": "3.11.9"
  }
 },
 "nbformat": 4,
 "nbformat_minor": 2
}
