{
 "cells": [
  {
   "cell_type": "markdown",
   "metadata": {},
   "source": [
    "### 튜토리얼"
   ]
  },
  {
   "cell_type": "code",
   "execution_count": 1,
   "metadata": {},
   "outputs": [],
   "source": [
    "# 라이브러리 불러오기\n",
    "import gspread\n",
    "\n",
    "# json 파일 Key 값 저장하기\n",
    "    # 1. 저장한 키값 'service_account'로 변경\n",
    "    # 2. C드라이브 바로 아래에 저장\n",
    "키경로 = gspread.service_account(filename = \"C:/service_account.json\")\n",
    "\n",
    "# 불러 오고 싶은 시트URL 복붙\n",
    "    # 이때, 시트 내에 '권한'을 줘야 함\n",
    "    # 권한은 Key 값을 생성한 이메일\n",
    "시트 = 키경로.open_by_url(\"https://docs.google.com/spreadsheets/d/1s8fEpQ05VGnY7wmPlT4GnZkM6yIyzOsy6MJ4ZbOtcwo/edit?usp=sharing\")\n"
   ]
  },
  {
   "cell_type": "code",
   "execution_count": 2,
   "metadata": {},
   "outputs": [
    {
     "data": {
      "text/plain": [
       "<Worksheet '추출 1' id:240471929>"
      ]
     },
     "execution_count": 2,
     "metadata": {},
     "output_type": "execute_result"
    }
   ],
   "source": [
    "# 시트 내에 있는 워크시트 불러오기\n",
    "워크시트 = 시트.worksheet('추출 1')\n",
    "워크시트"
   ]
  },
  {
   "cell_type": "code",
   "execution_count": 3,
   "metadata": {},
   "outputs": [
    {
     "data": {
      "text/plain": [
       "'event_date'"
      ]
     },
     "execution_count": 3,
     "metadata": {},
     "output_type": "execute_result"
    }
   ],
   "source": [
    "# 워크시트 A1 셀에 있는 값 읽기\n",
    "워크시트.acell('A1').value"
   ]
  },
  {
   "cell_type": "code",
   "execution_count": null,
   "metadata": {},
   "outputs": [],
   "source": [
    "# 워크시트 'A1:GI25001' 범위에 있는 값 읽기\n",
    "워크시트.get(\"A1:GI25001\")"
   ]
  },
  {
   "cell_type": "markdown",
   "metadata": {},
   "source": [
    "### 데이터분석 방법 | BiqQuery - Spread Sheets - Python "
   ]
  },
  {
   "cell_type": "markdown",
   "metadata": {},
   "source": [
    "1. BiqQuery에서 원하는 쿼리를 작성\n",
    "2. 쿼리 결과를 Spread Sheets로 내보내기\n",
    "3. Python gspread 라이브러리 이용해서 Sheets 데이터 불러오기\n",
    "4. Sheets 데이터 Pandas DataFrame으로 만들기"
   ]
  },
  {
   "cell_type": "markdown",
   "metadata": {},
   "source": [
    "#### [1] Sheets 데이터 Pandas DataFrame으로 만들기"
   ]
  },
  {
   "cell_type": "code",
   "execution_count": 5,
   "metadata": {},
   "outputs": [],
   "source": [
    "# 라이브러리 불러오기\n",
    "import gspread\n",
    "\n",
    "# json 파일 Key 값 저장하기\n",
    "    # 1. 저장한 키값 'service_account'로 변경\n",
    "    # 2. C드라이브 바로 아래에 저장\n",
    "키경로 = gspread.service_account(filename = \"C:/service_account.json\")\n",
    "\n",
    "# 불러 오고 싶은 시트URL 복붙\n",
    "    # 이때, 시트 내에 '권한'을 줘야 함\n",
    "    # 권한은 Key 값을 생성한 이메일\n",
    "시트 = 키경로.open_by_url(\"https://docs.google.com/spreadsheets/d/1s8fEpQ05VGnY7wmPlT4GnZkM6yIyzOsy6MJ4ZbOtcwo/edit?usp=sharing\")\n",
    "\n",
    "# 시트 내에 있는 워크시트 불러오기\n",
    "워크시트 = 시트.worksheet('추출 1')\n",
    "워크시트\n",
    "\n",
    "# 워크시트 'A1:GI25001' 범위에 있는 값 읽기\n",
    "\n",
    "전체데이터 = 워크시트.get(\"A1:GI25001\")"
   ]
  },
  {
   "cell_type": "code",
   "execution_count": null,
   "metadata": {},
   "outputs": [],
   "source": [
    "import pandas as pd\n",
    "\n",
    "# 방법 1: get_all_records() 사용\n",
    "df = pd.DataFrame(워크시트.get_all_records())"
   ]
  },
  {
   "cell_type": "code",
   "execution_count": 14,
   "metadata": {},
   "outputs": [
    {
     "data": {
      "text/html": [
       "<div>\n",
       "<style scoped>\n",
       "    .dataframe tbody tr th:only-of-type {\n",
       "        vertical-align: middle;\n",
       "    }\n",
       "\n",
       "    .dataframe tbody tr th {\n",
       "        vertical-align: top;\n",
       "    }\n",
       "\n",
       "    .dataframe thead th {\n",
       "        text-align: right;\n",
       "    }\n",
       "</style>\n",
       "<table border=\"1\" class=\"dataframe\">\n",
       "  <thead>\n",
       "    <tr style=\"text-align: right;\">\n",
       "      <th></th>\n",
       "      <th>event_date</th>\n",
       "      <th>event_timestamp</th>\n",
       "      <th>event_name</th>\n",
       "      <th>event_previous_timestamp</th>\n",
       "      <th>event_value_in_usd</th>\n",
       "      <th>event_bundle_sequence_id</th>\n",
       "      <th>event_server_timestamp_offset</th>\n",
       "      <th>user_id</th>\n",
       "      <th>user_pseudo_id</th>\n",
       "      <th>privacy_info.analytics_storage</th>\n",
       "      <th>...</th>\n",
       "      <th>session_traffic_source_last_click.dv360_campaign.partner_name</th>\n",
       "      <th>publisher.ad_revenue_in_usd</th>\n",
       "      <th>publisher.ad_format</th>\n",
       "      <th>publisher.ad_source_name</th>\n",
       "      <th>publisher.ad_unit_id</th>\n",
       "      <th>key</th>\n",
       "      <th>value.string_value</th>\n",
       "      <th>value.int_value</th>\n",
       "      <th>value.float_value</th>\n",
       "      <th>value.double_value</th>\n",
       "    </tr>\n",
       "  </thead>\n",
       "  <tbody>\n",
       "    <tr>\n",
       "      <th>0</th>\n",
       "      <td>20240916</td>\n",
       "      <td>1.726440e+15</td>\n",
       "      <td>session_start</td>\n",
       "      <td></td>\n",
       "      <td></td>\n",
       "      <td>1935382076</td>\n",
       "      <td></td>\n",
       "      <td></td>\n",
       "      <td>1.598254e+09</td>\n",
       "      <td></td>\n",
       "      <td>...</td>\n",
       "      <td></td>\n",
       "      <td></td>\n",
       "      <td></td>\n",
       "      <td></td>\n",
       "      <td></td>\n",
       "      <td>ga_session_id</td>\n",
       "      <td></td>\n",
       "      <td>1726441347</td>\n",
       "      <td></td>\n",
       "      <td></td>\n",
       "    </tr>\n",
       "    <tr>\n",
       "      <th>1</th>\n",
       "      <td>20240916</td>\n",
       "      <td>1.726440e+15</td>\n",
       "      <td>session_start</td>\n",
       "      <td></td>\n",
       "      <td></td>\n",
       "      <td>1935382076</td>\n",
       "      <td></td>\n",
       "      <td></td>\n",
       "      <td>1.598254e+09</td>\n",
       "      <td></td>\n",
       "      <td>...</td>\n",
       "      <td></td>\n",
       "      <td></td>\n",
       "      <td></td>\n",
       "      <td></td>\n",
       "      <td></td>\n",
       "      <td>source</td>\n",
       "      <td>naver</td>\n",
       "      <td></td>\n",
       "      <td></td>\n",
       "      <td></td>\n",
       "    </tr>\n",
       "    <tr>\n",
       "      <th>2</th>\n",
       "      <td>20240916</td>\n",
       "      <td>1.726440e+15</td>\n",
       "      <td>session_start</td>\n",
       "      <td></td>\n",
       "      <td></td>\n",
       "      <td>1935382076</td>\n",
       "      <td></td>\n",
       "      <td></td>\n",
       "      <td>1.598254e+09</td>\n",
       "      <td></td>\n",
       "      <td>...</td>\n",
       "      <td></td>\n",
       "      <td></td>\n",
       "      <td></td>\n",
       "      <td></td>\n",
       "      <td></td>\n",
       "      <td>term</td>\n",
       "      <td>단순 절도죄 초범 실형</td>\n",
       "      <td></td>\n",
       "      <td></td>\n",
       "      <td></td>\n",
       "    </tr>\n",
       "    <tr>\n",
       "      <th>3</th>\n",
       "      <td>20240916</td>\n",
       "      <td>1.726440e+15</td>\n",
       "      <td>session_start</td>\n",
       "      <td></td>\n",
       "      <td></td>\n",
       "      <td>1935382076</td>\n",
       "      <td></td>\n",
       "      <td></td>\n",
       "      <td>1.598254e+09</td>\n",
       "      <td></td>\n",
       "      <td>...</td>\n",
       "      <td></td>\n",
       "      <td></td>\n",
       "      <td></td>\n",
       "      <td></td>\n",
       "      <td></td>\n",
       "      <td>page_title</td>\n",
       "      <td>주거침입죄 초범 벌금은 얼마? 합의금은 어느 정도 필요할까</td>\n",
       "      <td></td>\n",
       "      <td></td>\n",
       "      <td></td>\n",
       "    </tr>\n",
       "    <tr>\n",
       "      <th>4</th>\n",
       "      <td>20240916</td>\n",
       "      <td>1.726440e+15</td>\n",
       "      <td>session_start</td>\n",
       "      <td></td>\n",
       "      <td></td>\n",
       "      <td>1935382076</td>\n",
       "      <td></td>\n",
       "      <td></td>\n",
       "      <td>1.598254e+09</td>\n",
       "      <td></td>\n",
       "      <td>...</td>\n",
       "      <td></td>\n",
       "      <td></td>\n",
       "      <td></td>\n",
       "      <td></td>\n",
       "      <td></td>\n",
       "      <td>engaged_session_event</td>\n",
       "      <td></td>\n",
       "      <td>1</td>\n",
       "      <td></td>\n",
       "      <td></td>\n",
       "    </tr>\n",
       "  </tbody>\n",
       "</table>\n",
       "<p>5 rows × 191 columns</p>\n",
       "</div>"
      ],
      "text/plain": [
       "   event_date  event_timestamp     event_name event_previous_timestamp  \\\n",
       "0    20240916     1.726440e+15  session_start                            \n",
       "1    20240916     1.726440e+15  session_start                            \n",
       "2    20240916     1.726440e+15  session_start                            \n",
       "3    20240916     1.726440e+15  session_start                            \n",
       "4    20240916     1.726440e+15  session_start                            \n",
       "\n",
       "  event_value_in_usd  event_bundle_sequence_id event_server_timestamp_offset  \\\n",
       "0                                   1935382076                                 \n",
       "1                                   1935382076                                 \n",
       "2                                   1935382076                                 \n",
       "3                                   1935382076                                 \n",
       "4                                   1935382076                                 \n",
       "\n",
       "  user_id  user_pseudo_id privacy_info.analytics_storage  ...  \\\n",
       "0            1.598254e+09                                 ...   \n",
       "1            1.598254e+09                                 ...   \n",
       "2            1.598254e+09                                 ...   \n",
       "3            1.598254e+09                                 ...   \n",
       "4            1.598254e+09                                 ...   \n",
       "\n",
       "  session_traffic_source_last_click.dv360_campaign.partner_name  \\\n",
       "0                                                                 \n",
       "1                                                                 \n",
       "2                                                                 \n",
       "3                                                                 \n",
       "4                                                                 \n",
       "\n",
       "  publisher.ad_revenue_in_usd publisher.ad_format publisher.ad_source_name  \\\n",
       "0                                                                            \n",
       "1                                                                            \n",
       "2                                                                            \n",
       "3                                                                            \n",
       "4                                                                            \n",
       "\n",
       "  publisher.ad_unit_id                    key  \\\n",
       "0                               ga_session_id   \n",
       "1                                      source   \n",
       "2                                        term   \n",
       "3                                  page_title   \n",
       "4                       engaged_session_event   \n",
       "\n",
       "                 value.string_value value.int_value value.float_value  \\\n",
       "0                                        1726441347                     \n",
       "1                             naver                                     \n",
       "2                      단순 절도죄 초범 실형                                     \n",
       "3  주거침입죄 초범 벌금은 얼마? 합의금은 어느 정도 필요할까                                     \n",
       "4                                                 1                     \n",
       "\n",
       "  value.double_value  \n",
       "0                     \n",
       "1                     \n",
       "2                     \n",
       "3                     \n",
       "4                     \n",
       "\n",
       "[5 rows x 191 columns]"
      ]
     },
     "execution_count": 14,
     "metadata": {},
     "output_type": "execute_result"
    }
   ],
   "source": [
    "df.head()"
   ]
  },
  {
   "cell_type": "markdown",
   "metadata": {},
   "source": [
    "#### [2] pandas 데이터 분석\n",
    "\n",
    "**참고**\n",
    "1. https://www.notion.so/f829a87ef10e43b284e171a00a5eb2d0?pvs=4"
   ]
  }
 ],
 "metadata": {
  "kernelspec": {
   "display_name": "Python 3",
   "language": "python",
   "name": "python3"
  },
  "language_info": {
   "codemirror_mode": {
    "name": "ipython",
    "version": 3
   },
   "file_extension": ".py",
   "mimetype": "text/x-python",
   "name": "python",
   "nbconvert_exporter": "python",
   "pygments_lexer": "ipython3",
   "version": "3.11.9"
  }
 },
 "nbformat": 4,
 "nbformat_minor": 2
}
